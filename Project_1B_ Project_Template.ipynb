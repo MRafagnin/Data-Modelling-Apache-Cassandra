{
 "cells": [
  {
   "cell_type": "markdown",
   "metadata": {
    "editable": true
   },
   "source": [
    "# PROJECT\n",
    "## Company: Sparkify\n",
    "## Goal: Data Modelling and ETL Pipeline for Processing and Analysis of Song's data"
   ]
  },
  {
   "cell_type": "code",
   "execution_count": null,
   "metadata": {
    "editable": true
   },
   "outputs": [],
   "source": [
    "# Import Python packages \n",
    "import pandas as pd\n",
    "import cassandra\n",
    "import re\n",
    "import os\n",
    "import glob\n",
    "import numpy as np\n",
    "import json\n",
    "import csv"
   ]
  },
  {
   "cell_type": "code",
   "execution_count": null,
   "metadata": {
    "editable": true
   },
   "outputs": [],
   "source": [
    "# checking your current working directory\n",
    "print(os.getcwd())\n",
    "\n",
    "# Get your current folder and subfolder event data\n",
    "filepath = os.getcwd() + '/event_data'\n",
    "\n",
    "# Create a for loop to create a list of files and collect each filepath\n",
    "for root, dirs, files in os.walk(filepath):\n",
    "\n",
    "# join the file path and roots with the subdirectories using glob\n",
    "    file_path_list = glob.glob(os.path.join(root,'*'))\n",
    "    #print(file_path_list)\n",
    "\n",
    "print(f\"Amount of Files in `file_path_list`: {len(file_path_list)}\")"
   ]
  },
  {
   "cell_type": "code",
   "execution_count": null,
   "metadata": {
    "editable": true
   },
   "outputs": [],
   "source": [
    "# initiating an empty list of rows that will be generated from each file\n",
    "full_data_rows_list = [] \n",
    "    \n",
    "# for every filepath in the file path list \n",
    "for f in file_path_list:\n",
    "\n",
    "# reading csv file \n",
    "    with open(f, 'r', encoding = 'utf8', newline='') as csvfile: \n",
    "        # creating a csv reader object \n",
    "        csvreader = csv.reader(csvfile) \n",
    "        next(csvreader)\n",
    "        \n",
    "# extracting each data row one by one and append it      \n",
    "        for line in csvreader:\n",
    "            #print(line)\n",
    "            full_data_rows_list.append(line) \n",
    "            \n",
    "# uncomment the code below if you would like to get total number of rows \n",
    "print(len(full_data_rows_list))\n",
    "# uncomment the code below if you would like to check to see what the list of event data rows will look like\n",
    "#print(full_data_rows_list)\n",
    "\n",
    "# creating a smaller event data csv file called event_datafile_full csv that will be used to insert data into the \\\n",
    "# Apache Cassandra tables\n",
    "csv.register_dialect('myDialect', quoting=csv.QUOTE_ALL, skipinitialspace=True)\n",
    "\n",
    "with open('event_datafile_new.csv', 'w', encoding = 'utf8', newline='') as f:\n",
    "    writer = csv.writer(f, dialect='myDialect')\n",
    "    writer.writerow(['artist','firstName','gender','itemInSession','lastName','length',\\\n",
    "                'level','location','sessionId','song','userId'])\n",
    "    for row in full_data_rows_list:\n",
    "        if (row[0] == ''):\n",
    "            continue\n",
    "        writer.writerow((row[0], row[2], row[3], row[4], row[5], row[6], row[7], row[8], row[12], row[13], row[16]))"
   ]
  },
  {
   "cell_type": "code",
   "execution_count": null,
   "metadata": {
    "editable": true
   },
   "outputs": [],
   "source": [
    "# check the number of rows in your csv file\n",
    "with open('event_datafile_new.csv', 'r', encoding = 'utf8') as f:\n",
    "    print(sum(1 for line in f))"
   ]
  },
  {
   "cell_type": "markdown",
   "metadata": {
    "editable": true
   },
   "source": [
    "The image below is a screenshot of what the denormalized data should appear like in the <font color=red>**event_datafile_new.csv**</font> after the code above is run:<br>\n",
    "\n",
    "<img src=\"images/image_event_datafile_new.jpg\">"
   ]
  },
  {
   "cell_type": "code",
   "execution_count": null,
   "metadata": {
    "editable": true
   },
   "outputs": [],
   "source": [
    "# Create Cluster\n",
    "# This should make a connection to a Cassandra instance your local machine \n",
    "\n",
    "from cassandra.cluster import Cluster\n",
    "cluster = Cluster(['127.0.0.1'])\n",
    "\n",
    "# To establish connection and begin executing queries, need a session\n",
    "session = cluster.connect()"
   ]
  },
  {
   "cell_type": "code",
   "execution_count": null,
   "metadata": {
    "editable": true
   },
   "outputs": [],
   "source": [
    "# Create Keyspace \n",
    "session.execute(\"\"\"\n",
    "CREATE KEYSPACE IF NOT EXISTS sparkify_key\n",
    "WITH REPLICATION =\n",
    "{ 'class' : 'SimpleStrategy', 'replication_factor' : 1 }\"\"\"\n",
    ")"
   ]
  },
  {
   "cell_type": "code",
   "execution_count": null,
   "metadata": {
    "editable": true
   },
   "outputs": [],
   "source": [
    "# Set KEYSPACE\n",
    "session.set_keyspace('sparkify_key')"
   ]
  },
  {
   "cell_type": "code",
   "execution_count": null,
   "metadata": {
    "editable": true
   },
   "outputs": [],
   "source": [
    "# Drop table is exists\n",
    "try:\n",
    "    session.execute(\"DROP TABLE IF EXISTS artist_song_lenght_tb ;\")\n",
    "except Exception as e:\n",
    "    print(\"Error DROPPING TABLE(s)!\")\n",
    "    print(e)\n",
    "\n",
    "## Create table for retrieval of 'artist', 'song title' and 'song's length' was heard during \\\n",
    "## sessionId = 338, and itemInSession = 4\n",
    "\n",
    "query = \"CREATE TABLE IF NOT EXISTS artist_song_lenght_tb \\\n",
    "            (sessionId VARCHAR, itemInSession VARCHAR, artist VARCHAR, song VARCHAR, lenght VARCHAR, \\\n",
    "                PRIMARY KEY (sessionId, itemInSession))\"\n",
    "                ## PRIMARY KEY determined based on above requested values\n",
    "\n",
    "#Execute above CREATE statement\n",
    "try:\n",
    "    session.execute(query)\n",
    "except Exception as e:\n",
    "    print('Error CREATING TABLE artist_song_lenght_tb')\n",
    "    print(e)"
   ]
  },
  {
   "cell_type": "code",
   "execution_count": null,
   "metadata": {
    "editable": true
   },
   "outputs": [],
   "source": [
    "file = 'event_datafile_new.csv'\n",
    "\n",
    "with open(file, encoding = 'utf8') as f:\n",
    "    csvreader = csv.reader(f)\n",
    "    next(csvreader) # skip header\n",
    "    for line in csvreader:\n",
    "        \n",
    "## INSERT data into the table\n",
    "        query = \"INSERT INTO artist_song_lenght_tb \\\n",
    "                    (sessionId, itemInSession, artist, song, lenght)\"\n",
    "        query = query + \"VALUES (%s, %s, %s, %s, %s)\"\n",
    "        \n",
    "        ## Assign which column element should be assigned for each column in the INSERT statement.\n",
    "        session.execute(query, (line[8], line[3], line[0], line[9], line[5]))"
   ]
  },
  {
   "cell_type": "code",
   "execution_count": null,
   "metadata": {
    "editable": true
   },
   "outputs": [],
   "source": [
    "## REQUESTED VALUES = sessionId = 338, and itemInSession = 4\n",
    "\n",
    "# Asks and assign user input to object\n",
    "s_id = str(input('Enter `sessionId` value: '))\n",
    "item_is = str(input('Enter `itemInSession` value: '))\n",
    "\n",
    "# Assign SELECT statement to object\n",
    "query = f\"SELECT artist, song, lenght FROM artist_song_lenght_tb \\\n",
    "            WHERE sessionId = '{s_id}' AND itemInSession = '{item_is}'\"\n",
    "\n",
    "# Execute above query\n",
    "try:\n",
    "    rows = session.execute(query)\n",
    "except Exception as e:\n",
    "    print(\"Error executing query!\")\n",
    "    print(e)\n",
    "\n",
    "# Start BOLD and End BOLD\n",
    "sb = '\\033[1m'\n",
    "eb = '\\033[0m'\n",
    "\n",
    "#Checks if 'rows' is not empty, otherwise, prints message\n",
    "if rows.current_rows != []:\n",
    "    for row in rows:\n",
    "        print(f\"\\n{sb}Artist:{eb} {row.artist} \\n{sb}Song:{eb} {row.song} \\n{sb}Lenght:{eb} {row.lenght}\")\n",
    "else:\n",
    "    print(f\"{sb}No value(s) found for this search!{eb}\")"
   ]
  },
  {
   "cell_type": "code",
   "execution_count": null,
   "metadata": {
    "editable": true
   },
   "outputs": [],
   "source": [
    "#Drop Table is Exists\n",
    "try:\n",
    "    session.execute(\"DROP TABLE IF EXISTS artist_song_user_sorted_tb ;\")\n",
    "except Exception as e:\n",
    "    print(\"Error DROPPING TABLE(s)!\")\n",
    "    print(e)\n",
    "\n",
    "## Create table for retrieval of 'name of artist', 'song' (sorted by itemInSession) and 'user' (first and last name)\n",
    "## Requested values -> for userid = 10, sessionid = 182\n",
    "\n",
    "query = \"CREATE TABLE IF NOT EXISTS artist_song_user_sorted_tb \\\n",
    "            (userId VARCHAR, sessionId VARCHAR, artist VARCHAR, song VARCHAR, \\\n",
    "                firstName VARCHAR, lastName VARCHAR, itemInSession VARCHAR,\\\n",
    "                    PRIMARY KEY ((userId, sessionId), itemInSession))\"\n",
    "                    ## PRIMARY KEY / CLUSTERING determined based on above requested values and sorting\n",
    "\n",
    "#Execute above CREATE statement\n",
    "try:\n",
    "    session.execute(query)\n",
    "except Exception as e:\n",
    "    print('Error CREATING TABLE artist_song_user_sorted_tb')\n",
    "    print(e)                    "
   ]
  },
  {
   "cell_type": "code",
   "execution_count": null,
   "metadata": {
    "editable": true
   },
   "outputs": [],
   "source": [
    "file = 'event_datafile_new.csv'\n",
    "\n",
    "with open(file, encoding = 'utf8') as f:\n",
    "    csvreader = csv.reader(f)\n",
    "    next(csvreader) # skip header\n",
    "    for line in csvreader:\n",
    "\n",
    "## INSERT data into the table\n",
    "        query = \"INSERT INTO artist_song_user_sorted_tb \\\n",
    "                    (userId, sessionId, artist, song, firstName, lastName, itemInSession)\"\n",
    "        query = query + \"VALUES (%s, %s, %s, %s, %s, %s, %s)\"\n",
    "        \n",
    "        ## Assign which column element should be assigned for each column in the INSERT statement.\n",
    "        session.execute(query, (line[10], line[8], line[0], line[9], line[1], line[4], line[3]))"
   ]
  },
  {
   "cell_type": "code",
   "execution_count": null,
   "metadata": {
    "editable": true
   },
   "outputs": [],
   "source": [
    "## RETRIEVES VALUES BY `userId` and `sessionId`\n",
    "## Requested values -> for userid = 10, sessionid = 182\n",
    "\n",
    "# Start BOLD and End BOLD\n",
    "sb = '\\033[1m'\n",
    "eb = '\\033[0m'\n",
    "\n",
    "print(f\"{sb}RETRIEVE VALUES BY `userId` and `sessionId`{eb}\\n\")\n",
    "\n",
    "#User input for `userId` and `sessionId`\n",
    "user_id = str(input(f\"{sb}Enter `userId` value: {eb}\"))\n",
    "session_id = str(input(f\"{sb}Enter `sessionId` value: {eb}\"))\n",
    "\n",
    "# Assign SELECT statement to object\n",
    "query = f\"SELECT artist, song, firstName, lastName FROM artist_song_user_sorted_tb \\\n",
    "            WHERE userId = '{user_id}' AND sessionId = '{session_id}'\"\n",
    "\n",
    "# Execute above SELECT statement\n",
    "try:\n",
    "    rows = session.execute(query)\n",
    "except Exception as e:\n",
    "    print(\"Error executing query!\")\n",
    "    print(e)\n",
    "\n",
    "#Checks if 'rows' is not empty, otherwise, prints message\n",
    "if rows.current_rows != []:\n",
    "    print(f\"\\n{sb}Artist {'Song': >{17}} {'User Name': >{58}}{eb}\")\n",
    "    for row in rows:\n",
    "        print(f\"{row.artist: <{18}}  {row.song: <{53}} {row.firstname} {row.lastname}\")    \n",
    "else:\n",
    "    print(f\"\\n{sb}No value(s) found for this search!{eb}\")"
   ]
  },
  {
   "cell_type": "code",
   "execution_count": null,
   "metadata": {
    "editable": true
   },
   "outputs": [],
   "source": [
    "#Drop Table is Exists\n",
    "try:\n",
    "    session.execute(\"DROP TABLE IF EXISTS user_name_spec_music_tb ;\")\n",
    "except Exception as e:\n",
    "    print(\"Error DROPPING TABLE!\")\n",
    "    print(e)\n",
    "\n",
    "## Create table for retrieval of 'user name's (first and last) who listened to the song 'All Hands Against His Own'\n",
    "\n",
    "query = \"CREATE TABLE IF NOT EXISTS user_name_spec_music_tb \\\n",
    "            (song VARCHAR, userId VARCHAR, firstName VARCHAR, lastName VARCHAR, \\\n",
    "                    PRIMARY KEY (song, userId))\"\n",
    "                    ## PRIMARY KEY determined so to uniquely identify requested data\n",
    "\n",
    "# Execute above CREATE statement\n",
    "try:\n",
    "    session.execute(query)\n",
    "except Exception as e:\n",
    "    print('Error CREATING TABLE user_name_spec_music_tb')\n",
    "    print(e)                 "
   ]
  },
  {
   "cell_type": "code",
   "execution_count": null,
   "metadata": {
    "editable": true
   },
   "outputs": [],
   "source": [
    "file = 'event_datafile_new.csv'\n",
    "\n",
    "with open(file, encoding = 'utf8') as f:\n",
    "    csvreader = csv.reader(f)\n",
    "    next(csvreader) # skip header\n",
    "    for line in csvreader:\n",
    "        \n",
    "## INSERT data into the table\n",
    "        query = \"INSERT INTO user_name_spec_music_tb \\\n",
    "                    (song, userId, firstName, lastName)\"\n",
    "        query = query + \"VALUES (%s, %s, %s, %s)\"\n",
    "        \n",
    "        ## Assign which column element should be assigned for each column in the INSERT statement.\n",
    "        session.execute(query, (line[9], line[10], line[1], line[4]))"
   ]
  },
  {
   "cell_type": "code",
   "execution_count": null,
   "metadata": {
    "editable": true
   },
   "outputs": [],
   "source": [
    "## RETRIEVES `firstName` AND `lastName` BY `song name`\n",
    "## Requested value -> song = 'All Hands Against His Own'\n",
    "\n",
    "# Start BOLD and End BOLD\n",
    "sb = '\\033[1m'\n",
    "eb = '\\033[0m'\n",
    "\n",
    "print(f\"{sb}RETRIEVE VALUES BY `song`{eb}\\n\")\n",
    "\n",
    "#User input for `song` name\n",
    "song_name = str(input(f\"{sb}Enter `song` name: {eb}\"))\n",
    "\n",
    "# Assign SELECT statement to object\n",
    "query = f\"SELECT firstName, lastName FROM user_name_spec_music_tb \\\n",
    "            WHERE song = '{song_name}'\"\n",
    "\n",
    "# Execute above SELECT statement\n",
    "try:\n",
    "    rows = session.execute(query)\n",
    "except Exception as e:\n",
    "    print(\"Error executing query!\")\n",
    "    print(e)\n",
    "\n",
    "\n",
    "#Checks if 'rows' is not empty, otherwise, prints error message\n",
    "if rows.current_rows != []:\n",
    "    print(f\"\\n{sb}First Name {'Last Name': >{17}} {eb}\")\n",
    "    for row in rows:\n",
    "        print(f\"{row.firstname: <{18}}  {row.lastname: <{53}}\")    \n",
    "else:\n",
    "    print(f\"\\n{sb}No value(s) found for this search!{eb}\")"
   ]
  },
  {
   "cell_type": "code",
   "execution_count": null,
   "metadata": {
    "editable": true
   },
   "outputs": [],
   "source": [
    "## Drop all tables before closing out the sessions\n",
    "try:\n",
    "    session.execute(\"DROP TABLE IF EXISTS artist_song_lenght_tb\")\n",
    "    session.execute(\"DROP TABLE IF EXISTS artist_song_user_sorted_tb\")\n",
    "    session.execute(\"DROP TABLE IF EXISTS user_name_spec_music_tb\")\n",
    "except Exception as e:\n",
    "    print(\"Error DROPPING tables!\")\n",
    "    print(e)"
   ]
  },
  {
   "cell_type": "code",
   "execution_count": null,
   "metadata": {
    "editable": true
   },
   "outputs": [],
   "source": [
    "## Close the session and cluster connection¶\n",
    "session.shutdown()\n",
    "cluster.shutdown()"
   ]
  }
 ],
 "metadata": {
  "kernelspec": {
   "display_name": "Python 3",
   "language": "python",
   "name": "python3"
  },
  "language_info": {
   "codemirror_mode": {
    "name": "ipython",
    "version": 3
   },
   "file_extension": ".py",
   "mimetype": "text/x-python",
   "name": "python",
   "nbconvert_exporter": "python",
   "pygments_lexer": "ipython3",
   "version": "3.6.3"
  }
 },
 "nbformat": 4,
 "nbformat_minor": 4
}
